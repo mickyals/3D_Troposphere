{
 "cells": [
  {
   "cell_type": "code",
   "execution_count": null,
   "id": "c840230c",
   "metadata": {},
   "outputs": [],
   "source": [
    "# %pip install -r requirements.txt"
   ]
  },
  {
   "cell_type": "code",
   "execution_count": null,
   "id": "7ed14ce9",
   "metadata": {},
   "outputs": [],
   "source": [
    "# !pip install --upgrade pandas"
   ]
  },
  {
   "cell_type": "code",
   "execution_count": null,
   "id": "beb62596",
   "metadata": {},
   "outputs": [],
   "source": [
    "# %pip install -Uqq numpy==1.24.4"
   ]
  },
  {
   "cell_type": "code",
   "execution_count": null,
   "id": "92250aab",
   "metadata": {},
   "outputs": [],
   "source": [
    "# !source /w/284/poyuchen/3D_Troposphere/venv/bin/activate"
   ]
  },
  {
   "cell_type": "code",
   "execution_count": null,
   "id": "0f40a805-909b-4998-8bd4-0750c655c245",
   "metadata": {},
   "outputs": [
    {
     "name": "stdout",
     "output_type": "stream",
     "text": [
      "True\n"
     ]
    },
    {
     "ename": "",
     "evalue": "",
     "output_type": "error",
     "traceback": [
      "\u001b[1;31mThe Kernel crashed while executing code in the current cell or a previous cell. \n",
      "\u001b[1;31mPlease review the code in the cell(s) to identify a possible cause of the failure. \n",
      "\u001b[1;31mClick <a href='https://aka.ms/vscodeJupyterKernelCrash'>here</a> for more info. \n",
      "\u001b[1;31mView Jupyter <a href='command:jupyter.viewOutput'>log</a> for further details."
     ]
    }
   ],
   "source": [
    "\n",
    "import sys\n",
    "def in_venv():\n",
    "    return sys.prefix != sys.base_prefix\n",
    "print(in_venv())\n",
    "\n",
    "sys.path.append('/w/284/poyuchen/3D_Troposphere/venv/lib/python3.10/site-packages')\n",
    "\n",
    "from data import *\n",
    "from models import *\n",
    "from point_cloud_generator import *\n",
    "from pointcloudhelpers import *\n",
    "from utils import *\n",
    "from helpers import *\n",
    "from main import *\n",
    "import pyvista as pv \n",
    "import numpy as np"
   ]
  },
  {
   "cell_type": "code",
   "execution_count": null,
   "id": "eba6cd7b",
   "metadata": {},
   "outputs": [],
   "source": [
    "!pip install GPUtil\n",
    "import GPUtil as GPU\n",
    "def gpu_info():\n",
    "    GPUs = GPU.getGPUs()\n",
    "    gpu = GPUs[0] \n",
    "    print(\"GPU RAM Free: {0:.0f}MB | Used: {1:.0f}MB | Util {2:3.0f}% | Total {3:.0f}MB\".format(gpu.memoryFree, gpu.memoryUsed, gpu.memoryUtil*100, gpu.memoryTotal))\n",
    "gpu_info()"
   ]
  },
  {
   "cell_type": "code",
   "execution_count": 2,
   "id": "0083bc60-1b47-419e-95b3-f7b35fdf0a1f",
   "metadata": {},
   "outputs": [
    {
     "name": "stderr",
     "output_type": "stream",
     "text": [
      "[rank: 0] Seed set to 42\n"
     ]
    },
    {
     "name": "stdout",
     "output_type": "stream",
     "text": [
      "Config Loaded Successfully\n",
      "checkpoint directory created: ./model\n",
      "saving model version 0.0\n",
      "checkpoint directory created: ./model\n",
      "saving model version 0.0\n",
      "checkpoint directory created: ./model\n",
      "saving model version 0.0\n",
      "checkpoint directory created: ./model\n",
      "saving model version 0.0\n",
      "checkpoint directory created: ./model\n",
      "saving model version 0.0\n",
      "Generating point cloud from trained model...\n",
      "./checkpoints/KAN_12480-iter_2025-04-02_16-17-03_model.pt\n",
      "lon\n"
     ]
    },
    {
     "ename": "",
     "evalue": "",
     "output_type": "error",
     "traceback": [
      "\u001b[1;31mCanceled future for execute_request message before replies were done"
     ]
    },
    {
     "ename": "",
     "evalue": "",
     "output_type": "error",
     "traceback": [
      "\u001b[1;31mCanceled future for execute_request message before replies were done. \n",
      "\u001b[1;31mView Jupyter <a href='command:jupyter.viewOutput'>log</a> for further details."
     ]
    }
   ],
   "source": [
    "# Load YAML config\n",
    "config = load_config(\"configs/config.yaml\")\n",
    "\n",
    "if torch.cuda.is_available():\n",
    "    torch.cuda.empty_cache()\n",
    "\n",
    "# # Set random seed for reproducibility\n",
    "seed_everything(config.seed, workers=True)\n",
    "print(\"Config Loaded Successfully\")\n",
    "\n",
    "# # Instantiate DataModule with optimized settings\n",
    "data_module = AtmosphereDataModule(config)\n",
    "\n",
    "# # Instantiate Model\n",
    "target_str = config.model._target_\n",
    "model = INRModel(config).to(set_device())\n",
    "\n",
    "print(\"Generating point cloud from trained model...\")\n",
    "\n",
    "# Load trained model from checkpoint\n",
    "checkpoint_path = config.model_checkpoint  # Ensure this is defined in config\n",
    "print(checkpoint_path)\n",
    "model.load_state_dict(torch.load(checkpoint_path, map_location=\"cpu\"))\n",
    "model.eval()\n",
    "\n",
    "# Initialize PointCloudGenerator\n",
    "config.model._target_ = target_str\n",
    "pc_generator = PointCloudGenerator(model, config, device=\"cpu\")\n",
    "\n",
    "for render_type in RENDER_TYPES:\n",
    "    print(render_type)\n",
    "    render_type = render_type.lower()\n",
    "    if render_type not in RENDER_TYPES:\n",
    "        raise Exception(f\"Invalid render type: must be {RENDER_TYPES}, got {render_type}\")\n",
    "    pointcloud_filename = pc_generator.generate(model=target_str.split('.')[-1], render_type=render_type)\n",
    "\n",
    "    print(f\"Point cloud saved to {pointcloud_filename}\")"
   ]
  },
  {
   "cell_type": "code",
   "execution_count": null,
   "id": "40b20d4a-5741-4372-8a15-0d9a654135ed",
   "metadata": {},
   "outputs": [],
   "source": []
  },
  {
   "cell_type": "code",
   "execution_count": null,
   "id": "ba02ba58-f03d-4a4f-a186-ce97afc07104",
   "metadata": {},
   "outputs": [],
   "source": []
  },
  {
   "cell_type": "code",
   "execution_count": null,
   "id": "6fdea36b-e54c-48f7-8219-6a980e2cc9d9",
   "metadata": {},
   "outputs": [],
   "source": []
  }
 ],
 "metadata": {
  "kernelspec": {
   "display_name": "Python 3 (ipykernel)",
   "language": "python",
   "name": "python3"
  },
  "language_info": {
   "codemirror_mode": {
    "name": "ipython",
    "version": 3
   },
   "file_extension": ".py",
   "mimetype": "text/x-python",
   "name": "python",
   "nbconvert_exporter": "python",
   "pygments_lexer": "ipython3",
   "version": "3.10.12"
  }
 },
 "nbformat": 4,
 "nbformat_minor": 5
}
