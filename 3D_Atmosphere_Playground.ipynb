{
 "cells": [
  {
   "cell_type": "code",
   "execution_count": 5,
   "id": "0f40a805-909b-4998-8bd4-0750c655c245",
   "metadata": {},
   "outputs": [],
   "source": [
    "from data import *\n",
    "from models import *\n",
    "from point_cloud_generator import *\n",
    "from pointcloudhelpers import *\n",
    "from utils import *\n",
    "from helpers import *\n",
    "import pyvista as pv \n",
    "import numpy as np"
   ]
  },
  {
   "cell_type": "code",
   "execution_count": 6,
   "id": "0083bc60-1b47-419e-95b3-f7b35fdf0a1f",
   "metadata": {},
   "outputs": [],
   "source": [
    "point_cloud_data = 'FinerModel_point_cloud.ply'\n",
    "\n",
    "pc = pv.PolyData(point_cloud_data)"
   ]
  },
  {
   "cell_type": "code",
   "execution_count": 7,
   "id": "40b20d4a-5741-4372-8a15-0d9a654135ed",
   "metadata": {},
   "outputs": [
    {
     "data": {
      "text/html": [
       "\n",
       "<table style='width: 100%;'>\n",
       "<tr><th>PolyData</th><th>Information</th></tr>\n",
       "<tr><td>N Cells</td><td>3240000</td></tr>\n",
       "<tr><td>N Points</td><td>3240000</td></tr>\n",
       "<tr><td>N Strips</td><td>0</td></tr>\n",
       "<tr><td>X Bounds</td><td>2.750e+02, 2.850e+02</td></tr>\n",
       "<tr><td>Y Bounds</td><td>4.000e+01, 4.500e+01</td></tr>\n",
       "<tr><td>Z Bounds</td><td>0.000e+00, 2.000e+04</td></tr>\n",
       "<tr><td>N Arrays</td><td>0</td></tr>\n",
       "</table>\n",
       "\n"
      ],
      "text/plain": [
       "PolyData (0x1baef3b1ae0)\n",
       "  N Cells:    3240000\n",
       "  N Points:   3240000\n",
       "  N Strips:   0\n",
       "  X Bounds:   2.750e+02, 2.850e+02\n",
       "  Y Bounds:   4.000e+01, 4.500e+01\n",
       "  Z Bounds:   0.000e+00, 2.000e+04\n",
       "  N Arrays:   0"
      ]
     },
     "execution_count": 7,
     "metadata": {},
     "output_type": "execute_result"
    }
   ],
   "source": [
    "pc"
   ]
  },
  {
   "cell_type": "code",
   "execution_count": 12,
   "id": "ba02ba58-f03d-4a4f-a186-ce97afc07104",
   "metadata": {},
   "outputs": [
    {
     "ename": "TypeError",
     "evalue": "string indices must be integers, not 'str'",
     "output_type": "error",
     "traceback": [
      "\u001b[31m---------------------------------------------------------------------------\u001b[39m",
      "\u001b[31mTypeError\u001b[39m                                 Traceback (most recent call last)",
      "\u001b[36mCell\u001b[39m\u001b[36m \u001b[39m\u001b[32mIn[12]\u001b[39m\u001b[32m, line 1\u001b[39m\n\u001b[32m----> \u001b[39m\u001b[32m1\u001b[39m pc.plot(scalars=\u001b[43mpoint_cloud_data\u001b[49m\u001b[43m[\u001b[49m\u001b[33;43m'\u001b[39;49m\u001b[33;43mtemperature\u001b[39;49m\u001b[33;43m'\u001b[39;49m\u001b[43m]\u001b[49m, point_size=\u001b[32m5.0\u001b[39m, cmap=\u001b[33m'\u001b[39m\u001b[33mjet\u001b[39m\u001b[33m'\u001b[39m)\n",
      "\u001b[31mTypeError\u001b[39m: string indices must be integers, not 'str'"
     ]
    }
   ],
   "source": []
  },
  {
   "cell_type": "code",
   "execution_count": null,
   "id": "6fdea36b-e54c-48f7-8219-6a980e2cc9d9",
   "metadata": {},
   "outputs": [],
   "source": []
  }
 ],
 "metadata": {
  "kernelspec": {
   "display_name": "Python 3 (ipykernel)",
   "language": "python",
   "name": "python3"
  },
  "language_info": {
   "codemirror_mode": {
    "name": "ipython",
    "version": 3
   },
   "file_extension": ".py",
   "mimetype": "text/x-python",
   "name": "python",
   "nbconvert_exporter": "python",
   "pygments_lexer": "ipython3",
   "version": "3.13.2"
  }
 },
 "nbformat": 4,
 "nbformat_minor": 5
}
